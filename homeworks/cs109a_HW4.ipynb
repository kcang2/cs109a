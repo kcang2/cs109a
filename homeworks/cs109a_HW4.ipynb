{
 "cells": [
  {
   "cell_type": "markdown",
   "metadata": {},
   "source": [
    "\n",
    "# <img style=\"float: left; padding-right: 10px; width: 45px\" src=\"https://raw.githubusercontent.com/Harvard-IACS/2018-CS109A/master/content/styles/iacs.png\"> CS109A Introduction to Data Science\n",
    "\n",
    "## Homework 4: Logistic Regression\n",
    "\n",
    "**Harvard University**<br/>\n",
    "**Fall 2019**<br/>\n",
    "**Instructors**: Pavlos Protopapas, Kevin Rader, and Chris Tanner\n",
    "\n",
    "<hr style=\"height:2pt\">\n",
    "\n"
   ]
  },
  {
   "cell_type": "code",
   "execution_count": 1,
   "metadata": {},
   "outputs": [
    {
     "data": {
      "text/html": [
       "<style>\n",
       "blockquote { background: #AEDE94; }\n",
       "h1 { \n",
       "    padding-top: 25px;\n",
       "    padding-bottom: 25px;\n",
       "    text-align: left; \n",
       "    padding-left: 10px;\n",
       "    background-color: #DDDDDD; \n",
       "    color: black;\n",
       "}\n",
       "h2 { \n",
       "    padding-top: 10px;\n",
       "    padding-bottom: 10px;\n",
       "    text-align: left; \n",
       "    padding-left: 5px;\n",
       "    background-color: #EEEEEE; \n",
       "    color: black;\n",
       "}\n",
       "\n",
       "div.exercise {\n",
       "\tbackground-color: #ffcccc;\n",
       "\tborder-color: #E9967A; \t\n",
       "\tborder-left: 5px solid #800080; \n",
       "\tpadding: 0.5em;\n",
       "}\n",
       "\n",
       "span.sub-q {\n",
       "\tfont-weight: bold;\n",
       "}\n",
       "div.theme {\n",
       "\tbackground-color: #DDDDDD;\n",
       "\tborder-color: #E9967A; \t\n",
       "\tborder-left: 5px solid #800080; \n",
       "\tpadding: 0.5em;\n",
       "\tfont-size: 18pt;\n",
       "}\n",
       "div.gc { \n",
       "\tbackground-color: #AEDE94;\n",
       "\tborder-color: #E9967A; \t \n",
       "\tborder-left: 5px solid #800080; \n",
       "\tpadding: 0.5em;\n",
       "\tfont-size: 12pt;\n",
       "}\n",
       "p.q1 { \n",
       "    padding-top: 5px;\n",
       "    padding-bottom: 5px;\n",
       "    text-align: left; \n",
       "    padding-left: 5px;\n",
       "    background-color: #EEEEEE; \n",
       "    color: black;\n",
       "}\n",
       "header {\n",
       "   padding-top: 35px;\n",
       "    padding-bottom: 35px;\n",
       "    text-align: left; \n",
       "    padding-left: 10px;\n",
       "    background-color: #DDDDDD; \n",
       "    color: black;\n",
       "}\n",
       "</style>\n",
       "\n"
      ],
      "text/plain": [
       "<IPython.core.display.HTML object>"
      ]
     },
     "execution_count": 1,
     "metadata": {},
     "output_type": "execute_result"
    }
   ],
   "source": [
    "#RUN THIS CELL \n",
    "import requests\n",
    "from IPython.core.display import HTML\n",
    "styles = requests.get(\"https://raw.githubusercontent.com/Harvard-IACS/2018-CS109A/master/content/styles/cs109.css\").text\n",
    "HTML(styles)"
   ]
  },
  {
   "cell_type": "markdown",
   "metadata": {},
   "source": [
    "### INSTRUCTIONS\n",
    "\n",
    "- **This is an individual homework. No group collaboration.**\n",
    "- To submit your assignment follow the instructions given in Canvas.\n",
    "- Restart the kernel and run the whole notebook again before you submit. \n",
    "- As much as possible, try and stick to the hints and functions we import at the top of the homework, as those are the ideas and tools the class supports and is aiming to teach. And if a problem specifies a particular library you're required to use that library, and possibly others from the import list.\n",
    "- Please use .head() when viewing data. Do not submit a notebook that is excessively long because output was not suppressed or otherwise limited. "
   ]
  },
  {
   "cell_type": "code",
   "execution_count": 2,
   "metadata": {},
   "outputs": [],
   "source": [
    "import numpy as np\n",
    "import pandas as pd\n",
    "\n",
    "from sklearn.linear_model import LinearRegression\n",
    "from sklearn.linear_model import LogisticRegression\n",
    "from sklearn.linear_model import LogisticRegressionCV\n",
    "from sklearn.linear_model import LassoCV\n",
    "\n",
    "from sklearn.neighbors import KNeighborsClassifier\n",
    "from sklearn.model_selection import cross_val_score\n",
    "from sklearn.metrics import accuracy_score\n",
    "from sklearn.model_selection import KFold\n",
    "from sklearn.preprocessing import MinMaxScaler\n",
    "from sklearn.model_selection import train_test_split\n",
    "\n",
    "import matplotlib\n",
    "import matplotlib.pyplot as plt\n",
    "%matplotlib inline\n",
    "\n",
    "import zipfile\n",
    "\n",
    "import seaborn as sns\n",
    "sns.set()"
   ]
  },
  {
   "cell_type": "markdown",
   "metadata": {},
   "source": [
    "<div class='theme'> Cancer Classification from Gene Expressions </div>\n",
    "\n",
    "In this problem, we will build a classification model to distinguish between two related classes of cancer, acute lymphoblastic leukemia (ALL) and acute myeloid leukemia (AML), using gene expression measurements. The data set is provided in the file `data/dataset_hw4.csv`. Each row in this file corresponds to a tumor tissue sample from a patient with one of the two forms of Leukemia. The first column contains the cancer type, with **0 indicating the ALL** class and **1 indicating the AML** class. Columns 2-7130 contain expression levels of 7129 genes recorded from each tissue sample. \n",
    "\n",
    "In the following questions, we will use linear and logistic regression to build classification models for this data set. \n"
   ]
  },
  {
   "cell_type": "markdown",
   "metadata": {},
   "source": [
    "<div class='exercise'><b> Question 1 [20 pts]: Data Exploration </b></div>\n",
    "\n",
    "First step is to  split  the observations into an approximate 80-20 train-test split.  Below is some code to do this for you (we want to make sure everyone has the same splits). Print dataset shape before splitting and after splitting. `Cancer_type` is our target column.\n",
    "\n",
    "\n",
    "**1.1** Take a peek at your training set (show a glimpse of what you did): you should notice the severe differences in the measurements from one gene to the next (some are negative, some hover around zero, and some are well into the thousands).  To account for these differences in scale and variability, normalize each predictor to vary between 0 and 1.\n",
    "\n",
    "\n",
    "**1.2** The training set contains more predictors than observations. What problem(s) can this lead to in fitting a classification model to such a data set? Explain in 3 or fewer sentences.\n",
    "\n",
    "\n",
    "**1.3** Identify and report which 10 genes individually discriminate between the two cancer classes the best (consider every gene in the data set).  Note: it wil lbe useful to save this list for future parts.\n",
    "\n",
    "Plot two histograms ofyour best predictor - one using training and another for the testing dataset. Each histogram should clearly distinguish two different `Cancer_type` classes.\n",
    "\n",
    "Hint: You may use t-testing to make this determination: #https://en.wikipedia.org/wiki/Welch%27s_t-test.\n",
    "\n",
    "\n",
    "**1.4** Using your top gene from the previous part (call it  `best_predictor`), create a classification model by manually eye-balling a value for this gene that would discriminate the two classes the best. Justify your choice in 1-2 sentences. Report the accuracy of this hand-chosen model on the test set.\n",
    "\n",
    "<hr> <hr>"
   ]
  },
  {
   "cell_type": "markdown",
   "metadata": {},
   "source": [
    "<hr>\n",
    "### Solutions"
   ]
  },
  {
   "cell_type": "markdown",
   "metadata": {},
   "source": [
    "**First step is to split the observations into an approximate 80-20 train-test split. Below is some code to do this for you (we want to make sure everyone has the same splits). Print dataset shape before splitting and after splitting. `Cancer_type` is our target column.**"
   ]
  },
  {
   "cell_type": "code",
   "execution_count": 4,
   "metadata": {},
   "outputs": [],
   "source": [
    "np.random.seed(10)\n",
    "df = pd.read_csv('data/hw4_enhance.csv', index_col=0)\n",
    "\n",
    "X_train, X_test, y_train, y_test =train_test_split(df.loc[:, df.columns != 'Cancer_type'], \n",
    "                                                         df.Cancer_type, test_size=0.2, \n",
    "                                                         random_state = 109, \n",
    "                                                         stratify = df.Cancer_type)"
   ]
  },
  {
   "cell_type": "code",
   "execution_count": 6,
   "metadata": {},
   "outputs": [
    {
     "name": "stdout",
     "output_type": "stream",
     "text": [
      "(752, 7130)\n",
      "(601, 7129) (151, 7129) (601,) (151,)\n",
      "0.0    0.511968\n",
      "1.0    0.488032\n",
      "Name: Cancer_type, dtype: float64\n"
     ]
    }
   ],
   "source": [
    "print(df.shape)\n",
    "\n",
    "print(X_train.shape, X_test.shape, y_train.shape, y_test.shape)\n",
    "print(df.Cancer_type.value_counts(normalize=True))"
   ]
  },
  {
   "cell_type": "markdown",
   "metadata": {},
   "source": [
    "**1.1 Take a peek at your training set (show a glimpse of what you did): you should notice the severe differences in the measurements from one gene to the next (some are negative, some hover around zero, and some are well into the thousands).  To account for these differences in scale and variability, normalize each predictor to vary between 0 and 1.**\n"
   ]
  },
  {
   "cell_type": "code",
   "execution_count": 7,
   "metadata": {},
   "outputs": [
    {
     "data": {
      "text/html": [
       "<div>\n",
       "<style scoped>\n",
       "    .dataframe tbody tr th:only-of-type {\n",
       "        vertical-align: middle;\n",
       "    }\n",
       "\n",
       "    .dataframe tbody tr th {\n",
       "        vertical-align: top;\n",
       "    }\n",
       "\n",
       "    .dataframe thead th {\n",
       "        text-align: right;\n",
       "    }\n",
       "</style>\n",
       "<table border=\"1\" class=\"dataframe\">\n",
       "  <thead>\n",
       "    <tr style=\"text-align: right;\">\n",
       "      <th></th>\n",
       "      <th>AFFX-BioB-5_at</th>\n",
       "      <th>AFFX-BioB-M_at</th>\n",
       "      <th>AFFX-BioB-3_at</th>\n",
       "      <th>AFFX-BioC-5_at</th>\n",
       "      <th>AFFX-BioC-3_at</th>\n",
       "      <th>AFFX-BioDn-5_at</th>\n",
       "      <th>AFFX-BioDn-3_at</th>\n",
       "      <th>AFFX-CreX-5_at</th>\n",
       "      <th>AFFX-CreX-3_at</th>\n",
       "      <th>AFFX-BioB-5_st</th>\n",
       "      <th>...</th>\n",
       "      <th>U48730_at</th>\n",
       "      <th>U58516_at</th>\n",
       "      <th>U73738_at</th>\n",
       "      <th>X06956_at</th>\n",
       "      <th>X16699_at</th>\n",
       "      <th>X83863_at</th>\n",
       "      <th>Z17240_at</th>\n",
       "      <th>L49218_f_at</th>\n",
       "      <th>M71243_f_at</th>\n",
       "      <th>Z78285_f_at</th>\n",
       "    </tr>\n",
       "  </thead>\n",
       "  <tbody>\n",
       "    <tr>\n",
       "      <td>count</td>\n",
       "      <td>601.000000</td>\n",
       "      <td>601.000000</td>\n",
       "      <td>601.000000</td>\n",
       "      <td>601.000000</td>\n",
       "      <td>601.000000</td>\n",
       "      <td>601.000000</td>\n",
       "      <td>601.000000</td>\n",
       "      <td>601.000000</td>\n",
       "      <td>601.000000</td>\n",
       "      <td>601.000000</td>\n",
       "      <td>...</td>\n",
       "      <td>601.000000</td>\n",
       "      <td>601.000000</td>\n",
       "      <td>601.000000</td>\n",
       "      <td>601.000000</td>\n",
       "      <td>601.000000</td>\n",
       "      <td>601.000000</td>\n",
       "      <td>601.000000</td>\n",
       "      <td>601.000000</td>\n",
       "      <td>601.000000</td>\n",
       "      <td>601.000000</td>\n",
       "    </tr>\n",
       "    <tr>\n",
       "      <td>mean</td>\n",
       "      <td>-115.860969</td>\n",
       "      <td>-160.846155</td>\n",
       "      <td>26.545301</td>\n",
       "      <td>209.733439</td>\n",
       "      <td>-248.992903</td>\n",
       "      <td>-405.422569</td>\n",
       "      <td>-24.135140</td>\n",
       "      <td>-188.491329</td>\n",
       "      <td>74.777098</td>\n",
       "      <td>97.436777</td>\n",
       "      <td>...</td>\n",
       "      <td>161.766492</td>\n",
       "      <td>707.377318</td>\n",
       "      <td>4.198787</td>\n",
       "      <td>421.466477</td>\n",
       "      <td>-50.023954</td>\n",
       "      <td>819.053113</td>\n",
       "      <td>329.803212</td>\n",
       "      <td>8.803791</td>\n",
       "      <td>507.250039</td>\n",
       "      <td>-24.377549</td>\n",
       "    </tr>\n",
       "    <tr>\n",
       "      <td>std</td>\n",
       "      <td>170.571929</td>\n",
       "      <td>188.676919</td>\n",
       "      <td>207.781982</td>\n",
       "      <td>202.987246</td>\n",
       "      <td>207.328054</td>\n",
       "      <td>261.112412</td>\n",
       "      <td>535.143398</td>\n",
       "      <td>163.077167</td>\n",
       "      <td>174.693115</td>\n",
       "      <td>358.897719</td>\n",
       "      <td>...</td>\n",
       "      <td>165.152970</td>\n",
       "      <td>526.644408</td>\n",
       "      <td>152.401188</td>\n",
       "      <td>589.914084</td>\n",
       "      <td>106.864078</td>\n",
       "      <td>814.898058</td>\n",
       "      <td>367.788891</td>\n",
       "      <td>85.397644</td>\n",
       "      <td>939.394188</td>\n",
       "      <td>71.102874</td>\n",
       "    </tr>\n",
       "    <tr>\n",
       "      <td>min</td>\n",
       "      <td>-894.789505</td>\n",
       "      <td>-1095.737090</td>\n",
       "      <td>-645.439001</td>\n",
       "      <td>-425.750627</td>\n",
       "      <td>-1154.285694</td>\n",
       "      <td>-1091.492494</td>\n",
       "      <td>-2066.516448</td>\n",
       "      <td>-728.996262</td>\n",
       "      <td>-770.025847</td>\n",
       "      <td>-1176.663615</td>\n",
       "      <td>...</td>\n",
       "      <td>-501.285884</td>\n",
       "      <td>-1010.430536</td>\n",
       "      <td>-447.077819</td>\n",
       "      <td>-1870.955269</td>\n",
       "      <td>-432.967768</td>\n",
       "      <td>-2151.593119</td>\n",
       "      <td>-651.051441</td>\n",
       "      <td>-255.419724</td>\n",
       "      <td>-2754.665185</td>\n",
       "      <td>-237.864216</td>\n",
       "    </tr>\n",
       "    <tr>\n",
       "      <td>25%</td>\n",
       "      <td>-222.586579</td>\n",
       "      <td>-270.502055</td>\n",
       "      <td>-95.000000</td>\n",
       "      <td>85.327810</td>\n",
       "      <td>-379.048622</td>\n",
       "      <td>-567.547758</td>\n",
       "      <td>-338.435164</td>\n",
       "      <td>-302.872287</td>\n",
       "      <td>-20.739507</td>\n",
       "      <td>-117.000000</td>\n",
       "      <td>...</td>\n",
       "      <td>67.861184</td>\n",
       "      <td>361.596510</td>\n",
       "      <td>-88.660905</td>\n",
       "      <td>88.409441</td>\n",
       "      <td>-105.000000</td>\n",
       "      <td>270.198265</td>\n",
       "      <td>90.825501</td>\n",
       "      <td>-40.391630</td>\n",
       "      <td>-50.785999</td>\n",
       "      <td>-73.000000</td>\n",
       "    </tr>\n",
       "    <tr>\n",
       "      <td>50%</td>\n",
       "      <td>-105.139096</td>\n",
       "      <td>-145.829450</td>\n",
       "      <td>21.183690</td>\n",
       "      <td>207.291048</td>\n",
       "      <td>-231.007621</td>\n",
       "      <td>-433.214742</td>\n",
       "      <td>-39.581881</td>\n",
       "      <td>-175.586059</td>\n",
       "      <td>90.170754</td>\n",
       "      <td>101.975176</td>\n",
       "      <td>...</td>\n",
       "      <td>153.253301</td>\n",
       "      <td>679.935520</td>\n",
       "      <td>9.960900</td>\n",
       "      <td>381.000000</td>\n",
       "      <td>-35.000000</td>\n",
       "      <td>749.281111</td>\n",
       "      <td>296.978609</td>\n",
       "      <td>7.968505</td>\n",
       "      <td>407.942117</td>\n",
       "      <td>-25.403427</td>\n",
       "    </tr>\n",
       "    <tr>\n",
       "      <td>75%</td>\n",
       "      <td>-4.789696</td>\n",
       "      <td>-40.599329</td>\n",
       "      <td>127.821586</td>\n",
       "      <td>331.277808</td>\n",
       "      <td>-116.000000</td>\n",
       "      <td>-252.587379</td>\n",
       "      <td>325.000000</td>\n",
       "      <td>-74.379003</td>\n",
       "      <td>190.551199</td>\n",
       "      <td>288.503617</td>\n",
       "      <td>...</td>\n",
       "      <td>263.112797</td>\n",
       "      <td>1076.075567</td>\n",
       "      <td>96.051876</td>\n",
       "      <td>720.339588</td>\n",
       "      <td>19.775025</td>\n",
       "      <td>1286.343005</td>\n",
       "      <td>521.096719</td>\n",
       "      <td>62.794411</td>\n",
       "      <td>1092.430279</td>\n",
       "      <td>19.740635</td>\n",
       "    </tr>\n",
       "    <tr>\n",
       "      <td>max</td>\n",
       "      <td>516.618491</td>\n",
       "      <td>384.626762</td>\n",
       "      <td>748.233182</td>\n",
       "      <td>1022.560525</td>\n",
       "      <td>308.876677</td>\n",
       "      <td>607.737258</td>\n",
       "      <td>1385.881293</td>\n",
       "      <td>263.634029</td>\n",
       "      <td>589.778466</td>\n",
       "      <td>1355.537180</td>\n",
       "      <td>...</td>\n",
       "      <td>686.321597</td>\n",
       "      <td>2522.188808</td>\n",
       "      <td>481.820516</td>\n",
       "      <td>3982.980299</td>\n",
       "      <td>215.047697</td>\n",
       "      <td>3743.264860</td>\n",
       "      <td>1996.244626</td>\n",
       "      <td>274.575647</td>\n",
       "      <td>3315.374276</td>\n",
       "      <td>224.773440</td>\n",
       "    </tr>\n",
       "  </tbody>\n",
       "</table>\n",
       "<p>8 rows × 7129 columns</p>\n",
       "</div>"
      ],
      "text/plain": [
       "       AFFX-BioB-5_at  AFFX-BioB-M_at  AFFX-BioB-3_at  AFFX-BioC-5_at  \\\n",
       "count      601.000000      601.000000      601.000000      601.000000   \n",
       "mean      -115.860969     -160.846155       26.545301      209.733439   \n",
       "std        170.571929      188.676919      207.781982      202.987246   \n",
       "min       -894.789505    -1095.737090     -645.439001     -425.750627   \n",
       "25%       -222.586579     -270.502055      -95.000000       85.327810   \n",
       "50%       -105.139096     -145.829450       21.183690      207.291048   \n",
       "75%         -4.789696      -40.599329      127.821586      331.277808   \n",
       "max        516.618491      384.626762      748.233182     1022.560525   \n",
       "\n",
       "       AFFX-BioC-3_at  AFFX-BioDn-5_at  AFFX-BioDn-3_at  AFFX-CreX-5_at  \\\n",
       "count      601.000000       601.000000       601.000000      601.000000   \n",
       "mean      -248.992903      -405.422569       -24.135140     -188.491329   \n",
       "std        207.328054       261.112412       535.143398      163.077167   \n",
       "min      -1154.285694     -1091.492494     -2066.516448     -728.996262   \n",
       "25%       -379.048622      -567.547758      -338.435164     -302.872287   \n",
       "50%       -231.007621      -433.214742       -39.581881     -175.586059   \n",
       "75%       -116.000000      -252.587379       325.000000      -74.379003   \n",
       "max        308.876677       607.737258      1385.881293      263.634029   \n",
       "\n",
       "       AFFX-CreX-3_at  AFFX-BioB-5_st  ...   U48730_at    U58516_at  \\\n",
       "count      601.000000      601.000000  ...  601.000000   601.000000   \n",
       "mean        74.777098       97.436777  ...  161.766492   707.377318   \n",
       "std        174.693115      358.897719  ...  165.152970   526.644408   \n",
       "min       -770.025847    -1176.663615  ... -501.285884 -1010.430536   \n",
       "25%        -20.739507     -117.000000  ...   67.861184   361.596510   \n",
       "50%         90.170754      101.975176  ...  153.253301   679.935520   \n",
       "75%        190.551199      288.503617  ...  263.112797  1076.075567   \n",
       "max        589.778466     1355.537180  ...  686.321597  2522.188808   \n",
       "\n",
       "        U73738_at    X06956_at   X16699_at    X83863_at    Z17240_at  \\\n",
       "count  601.000000   601.000000  601.000000   601.000000   601.000000   \n",
       "mean     4.198787   421.466477  -50.023954   819.053113   329.803212   \n",
       "std    152.401188   589.914084  106.864078   814.898058   367.788891   \n",
       "min   -447.077819 -1870.955269 -432.967768 -2151.593119  -651.051441   \n",
       "25%    -88.660905    88.409441 -105.000000   270.198265    90.825501   \n",
       "50%      9.960900   381.000000  -35.000000   749.281111   296.978609   \n",
       "75%     96.051876   720.339588   19.775025  1286.343005   521.096719   \n",
       "max    481.820516  3982.980299  215.047697  3743.264860  1996.244626   \n",
       "\n",
       "       L49218_f_at  M71243_f_at  Z78285_f_at  \n",
       "count   601.000000   601.000000   601.000000  \n",
       "mean      8.803791   507.250039   -24.377549  \n",
       "std      85.397644   939.394188    71.102874  \n",
       "min    -255.419724 -2754.665185  -237.864216  \n",
       "25%     -40.391630   -50.785999   -73.000000  \n",
       "50%       7.968505   407.942117   -25.403427  \n",
       "75%      62.794411  1092.430279    19.740635  \n",
       "max     274.575647  3315.374276   224.773440  \n",
       "\n",
       "[8 rows x 7129 columns]"
      ]
     },
     "execution_count": 7,
     "metadata": {},
     "output_type": "execute_result"
    }
   ],
   "source": [
    "#your code here\n",
    "X_train.describe()"
   ]
  },
  {
   "cell_type": "code",
   "execution_count": 10,
   "metadata": {},
   "outputs": [],
   "source": [
    "#your code here\n",
    "class Normalize:\n",
    "    def __init__(self):\n",
    "        self._clear()\n",
    "        \n",
    "    def fit(self, X):\n",
    "        self._clear()\n",
    "        for col in X:\n",
    "            self.mins.append(X[col].min())\n",
    "            self.maxs.append(X[col].max())\n",
    "    \n",
    "    def _clear(self):\n",
    "        self.mins = []\n",
    "        self.maxs = []\n",
    "    \n",
    "    def transform(self, X):\n",
    "        for i, col in enumerate(X):\n",
    "            X[col] = (X[col] - self.mins[i]) / (self.maxs[i] - self.mins[i])\n",
    "        return X\n",
    "\n",
    "normalizer = Normalize()\n",
    "normalizer.fit(X_train)\n",
    "\n",
    "X_train = normalizer.transform(X_train)\n",
    "X_test = normalizer.transform(X_test)"
   ]
  },
  {
   "cell_type": "code",
   "execution_count": 11,
   "metadata": {},
   "outputs": [
    {
     "data": {
      "text/html": [
       "<div>\n",
       "<style scoped>\n",
       "    .dataframe tbody tr th:only-of-type {\n",
       "        vertical-align: middle;\n",
       "    }\n",
       "\n",
       "    .dataframe tbody tr th {\n",
       "        vertical-align: top;\n",
       "    }\n",
       "\n",
       "    .dataframe thead th {\n",
       "        text-align: right;\n",
       "    }\n",
       "</style>\n",
       "<table border=\"1\" class=\"dataframe\">\n",
       "  <thead>\n",
       "    <tr style=\"text-align: right;\">\n",
       "      <th></th>\n",
       "      <th>AFFX-BioB-5_at</th>\n",
       "      <th>AFFX-BioB-M_at</th>\n",
       "      <th>AFFX-BioB-3_at</th>\n",
       "      <th>AFFX-BioC-5_at</th>\n",
       "      <th>AFFX-BioC-3_at</th>\n",
       "      <th>AFFX-BioDn-5_at</th>\n",
       "      <th>AFFX-BioDn-3_at</th>\n",
       "      <th>AFFX-CreX-5_at</th>\n",
       "      <th>AFFX-CreX-3_at</th>\n",
       "      <th>AFFX-BioB-5_st</th>\n",
       "      <th>...</th>\n",
       "      <th>U48730_at</th>\n",
       "      <th>U58516_at</th>\n",
       "      <th>U73738_at</th>\n",
       "      <th>X06956_at</th>\n",
       "      <th>X16699_at</th>\n",
       "      <th>X83863_at</th>\n",
       "      <th>Z17240_at</th>\n",
       "      <th>L49218_f_at</th>\n",
       "      <th>M71243_f_at</th>\n",
       "      <th>Z78285_f_at</th>\n",
       "    </tr>\n",
       "  </thead>\n",
       "  <tbody>\n",
       "    <tr>\n",
       "      <td>count</td>\n",
       "      <td>601.000000</td>\n",
       "      <td>601.000000</td>\n",
       "      <td>601.000000</td>\n",
       "      <td>601.000000</td>\n",
       "      <td>601.000000</td>\n",
       "      <td>601.000000</td>\n",
       "      <td>601.000000</td>\n",
       "      <td>601.000000</td>\n",
       "      <td>601.000000</td>\n",
       "      <td>601.000000</td>\n",
       "      <td>...</td>\n",
       "      <td>601.000000</td>\n",
       "      <td>601.000000</td>\n",
       "      <td>601.000000</td>\n",
       "      <td>601.000000</td>\n",
       "      <td>601.000000</td>\n",
       "      <td>601.000000</td>\n",
       "      <td>601.000000</td>\n",
       "      <td>601.000000</td>\n",
       "      <td>601.000000</td>\n",
       "      <td>601.000000</td>\n",
       "    </tr>\n",
       "    <tr>\n",
       "      <td>mean</td>\n",
       "      <td>0.551880</td>\n",
       "      <td>0.631528</td>\n",
       "      <td>0.482168</td>\n",
       "      <td>0.438776</td>\n",
       "      <td>0.618723</td>\n",
       "      <td>0.403753</td>\n",
       "      <td>0.591583</td>\n",
       "      <td>0.544518</td>\n",
       "      <td>0.621268</td>\n",
       "      <td>0.503159</td>\n",
       "      <td>...</td>\n",
       "      <td>0.558309</td>\n",
       "      <td>0.486270</td>\n",
       "      <td>0.485819</td>\n",
       "      <td>0.391604</td>\n",
       "      <td>0.590949</td>\n",
       "      <td>0.503939</td>\n",
       "      <td>0.370512</td>\n",
       "      <td>0.498539</td>\n",
       "      <td>0.537380</td>\n",
       "      <td>0.461455</td>\n",
       "    </tr>\n",
       "    <tr>\n",
       "      <td>std</td>\n",
       "      <td>0.120852</td>\n",
       "      <td>0.127453</td>\n",
       "      <td>0.149090</td>\n",
       "      <td>0.140154</td>\n",
       "      <td>0.141699</td>\n",
       "      <td>0.153665</td>\n",
       "      <td>0.155006</td>\n",
       "      <td>0.164288</td>\n",
       "      <td>0.128469</td>\n",
       "      <td>0.141734</td>\n",
       "      <td>...</td>\n",
       "      <td>0.139064</td>\n",
       "      <td>0.149080</td>\n",
       "      <td>0.164067</td>\n",
       "      <td>0.100772</td>\n",
       "      <td>0.164910</td>\n",
       "      <td>0.138239</td>\n",
       "      <td>0.138930</td>\n",
       "      <td>0.161129</td>\n",
       "      <td>0.154759</td>\n",
       "      <td>0.153690</td>\n",
       "    </tr>\n",
       "    <tr>\n",
       "      <td>min</td>\n",
       "      <td>0.000000</td>\n",
       "      <td>0.000000</td>\n",
       "      <td>0.000000</td>\n",
       "      <td>0.000000</td>\n",
       "      <td>0.000000</td>\n",
       "      <td>0.000000</td>\n",
       "      <td>0.000000</td>\n",
       "      <td>0.000000</td>\n",
       "      <td>0.000000</td>\n",
       "      <td>0.000000</td>\n",
       "      <td>...</td>\n",
       "      <td>0.000000</td>\n",
       "      <td>0.000000</td>\n",
       "      <td>0.000000</td>\n",
       "      <td>0.000000</td>\n",
       "      <td>0.000000</td>\n",
       "      <td>0.000000</td>\n",
       "      <td>0.000000</td>\n",
       "      <td>0.000000</td>\n",
       "      <td>0.000000</td>\n",
       "      <td>0.000000</td>\n",
       "    </tr>\n",
       "    <tr>\n",
       "      <td>25%</td>\n",
       "      <td>0.476264</td>\n",
       "      <td>0.557454</td>\n",
       "      <td>0.394956</td>\n",
       "      <td>0.352879</td>\n",
       "      <td>0.529837</td>\n",
       "      <td>0.308342</td>\n",
       "      <td>0.500545</td>\n",
       "      <td>0.429288</td>\n",
       "      <td>0.551025</td>\n",
       "      <td>0.418475</td>\n",
       "      <td>...</td>\n",
       "      <td>0.479238</td>\n",
       "      <td>0.388388</td>\n",
       "      <td>0.385852</td>\n",
       "      <td>0.334709</td>\n",
       "      <td>0.506111</td>\n",
       "      <td>0.410831</td>\n",
       "      <td>0.280240</td>\n",
       "      <td>0.405717</td>\n",
       "      <td>0.445447</td>\n",
       "      <td>0.356357</td>\n",
       "    </tr>\n",
       "    <tr>\n",
       "      <td>50%</td>\n",
       "      <td>0.559477</td>\n",
       "      <td>0.641672</td>\n",
       "      <td>0.478321</td>\n",
       "      <td>0.437090</td>\n",
       "      <td>0.631015</td>\n",
       "      <td>0.387398</td>\n",
       "      <td>0.587109</td>\n",
       "      <td>0.557519</td>\n",
       "      <td>0.632589</td>\n",
       "      <td>0.504952</td>\n",
       "      <td>...</td>\n",
       "      <td>0.551141</td>\n",
       "      <td>0.478502</td>\n",
       "      <td>0.492022</td>\n",
       "      <td>0.384691</td>\n",
       "      <td>0.614133</td>\n",
       "      <td>0.492102</td>\n",
       "      <td>0.358113</td>\n",
       "      <td>0.496963</td>\n",
       "      <td>0.521019</td>\n",
       "      <td>0.459238</td>\n",
       "    </tr>\n",
       "    <tr>\n",
       "      <td>75%</td>\n",
       "      <td>0.630576</td>\n",
       "      <td>0.712756</td>\n",
       "      <td>0.554837</td>\n",
       "      <td>0.522697</td>\n",
       "      <td>0.709618</td>\n",
       "      <td>0.493697</td>\n",
       "      <td>0.692712</td>\n",
       "      <td>0.659477</td>\n",
       "      <td>0.706408</td>\n",
       "      <td>0.578614</td>\n",
       "      <td>...</td>\n",
       "      <td>0.643646</td>\n",
       "      <td>0.590640</td>\n",
       "      <td>0.584703</td>\n",
       "      <td>0.442659</td>\n",
       "      <td>0.698660</td>\n",
       "      <td>0.583209</td>\n",
       "      <td>0.442772</td>\n",
       "      <td>0.600409</td>\n",
       "      <td>0.633784</td>\n",
       "      <td>0.556818</td>\n",
       "    </tr>\n",
       "    <tr>\n",
       "      <td>max</td>\n",
       "      <td>1.000000</td>\n",
       "      <td>1.000000</td>\n",
       "      <td>1.000000</td>\n",
       "      <td>1.000000</td>\n",
       "      <td>1.000000</td>\n",
       "      <td>1.000000</td>\n",
       "      <td>1.000000</td>\n",
       "      <td>1.000000</td>\n",
       "      <td>1.000000</td>\n",
       "      <td>1.000000</td>\n",
       "      <td>...</td>\n",
       "      <td>1.000000</td>\n",
       "      <td>1.000000</td>\n",
       "      <td>1.000000</td>\n",
       "      <td>1.000000</td>\n",
       "      <td>1.000000</td>\n",
       "      <td>1.000000</td>\n",
       "      <td>1.000000</td>\n",
       "      <td>1.000000</td>\n",
       "      <td>1.000000</td>\n",
       "      <td>1.000000</td>\n",
       "    </tr>\n",
       "  </tbody>\n",
       "</table>\n",
       "<p>8 rows × 7129 columns</p>\n",
       "</div>"
      ],
      "text/plain": [
       "       AFFX-BioB-5_at  AFFX-BioB-M_at  AFFX-BioB-3_at  AFFX-BioC-5_at  \\\n",
       "count      601.000000      601.000000      601.000000      601.000000   \n",
       "mean         0.551880        0.631528        0.482168        0.438776   \n",
       "std          0.120852        0.127453        0.149090        0.140154   \n",
       "min          0.000000        0.000000        0.000000        0.000000   \n",
       "25%          0.476264        0.557454        0.394956        0.352879   \n",
       "50%          0.559477        0.641672        0.478321        0.437090   \n",
       "75%          0.630576        0.712756        0.554837        0.522697   \n",
       "max          1.000000        1.000000        1.000000        1.000000   \n",
       "\n",
       "       AFFX-BioC-3_at  AFFX-BioDn-5_at  AFFX-BioDn-3_at  AFFX-CreX-5_at  \\\n",
       "count      601.000000       601.000000       601.000000      601.000000   \n",
       "mean         0.618723         0.403753         0.591583        0.544518   \n",
       "std          0.141699         0.153665         0.155006        0.164288   \n",
       "min          0.000000         0.000000         0.000000        0.000000   \n",
       "25%          0.529837         0.308342         0.500545        0.429288   \n",
       "50%          0.631015         0.387398         0.587109        0.557519   \n",
       "75%          0.709618         0.493697         0.692712        0.659477   \n",
       "max          1.000000         1.000000         1.000000        1.000000   \n",
       "\n",
       "       AFFX-CreX-3_at  AFFX-BioB-5_st  ...   U48730_at   U58516_at  \\\n",
       "count      601.000000      601.000000  ...  601.000000  601.000000   \n",
       "mean         0.621268        0.503159  ...    0.558309    0.486270   \n",
       "std          0.128469        0.141734  ...    0.139064    0.149080   \n",
       "min          0.000000        0.000000  ...    0.000000    0.000000   \n",
       "25%          0.551025        0.418475  ...    0.479238    0.388388   \n",
       "50%          0.632589        0.504952  ...    0.551141    0.478502   \n",
       "75%          0.706408        0.578614  ...    0.643646    0.590640   \n",
       "max          1.000000        1.000000  ...    1.000000    1.000000   \n",
       "\n",
       "        U73738_at   X06956_at   X16699_at   X83863_at   Z17240_at  \\\n",
       "count  601.000000  601.000000  601.000000  601.000000  601.000000   \n",
       "mean     0.485819    0.391604    0.590949    0.503939    0.370512   \n",
       "std      0.164067    0.100772    0.164910    0.138239    0.138930   \n",
       "min      0.000000    0.000000    0.000000    0.000000    0.000000   \n",
       "25%      0.385852    0.334709    0.506111    0.410831    0.280240   \n",
       "50%      0.492022    0.384691    0.614133    0.492102    0.358113   \n",
       "75%      0.584703    0.442659    0.698660    0.583209    0.442772   \n",
       "max      1.000000    1.000000    1.000000    1.000000    1.000000   \n",
       "\n",
       "       L49218_f_at  M71243_f_at  Z78285_f_at  \n",
       "count   601.000000   601.000000   601.000000  \n",
       "mean      0.498539     0.537380     0.461455  \n",
       "std       0.161129     0.154759     0.153690  \n",
       "min       0.000000     0.000000     0.000000  \n",
       "25%       0.405717     0.445447     0.356357  \n",
       "50%       0.496963     0.521019     0.459238  \n",
       "75%       0.600409     0.633784     0.556818  \n",
       "max       1.000000     1.000000     1.000000  \n",
       "\n",
       "[8 rows x 7129 columns]"
      ]
     },
     "execution_count": 11,
     "metadata": {},
     "output_type": "execute_result"
    }
   ],
   "source": [
    "#your code here\n",
    "X_train.describe()"
   ]
  },
  {
   "cell_type": "markdown",
   "metadata": {},
   "source": [
    "**1.2 The training set contains more predictors than observations. What problem(s) can this lead to in fitting a classification model to such a data set? Explain in 3 or fewer sentences.**"
   ]
  },
  {
   "cell_type": "markdown",
   "metadata": {},
   "source": [
    "*your answer here*\n",
    "Curse of dimensionality"
   ]
  },
  {
   "cell_type": "markdown",
   "metadata": {},
   "source": [
    "**1.3** **Identify and report which 10 genes individually discriminate between the two cancer classes the best (consider every gene in the data set).  Note: it wil lbe useful to save this list for future parts.**\n",
    "\n",
    "**Plot two histograms of your best predictor - one using training and another for the testing dataset. Each histogram should clearly distinguish two different `Cancer_type` classes.**\n",
    "\n",
    "**Hint: You may use t-testing to make this determination: #https://en.wikipedia.org/wiki/Welch%27s_t-test.**"
   ]
  },
  {
   "cell_type": "code",
   "execution_count": 17,
   "metadata": {},
   "outputs": [
    {
     "name": "stdout",
     "output_type": "stream",
     "text": [
      "M31523_at\n"
     ]
    }
   ],
   "source": [
    "#your code here\n",
    "from scipy import stats\n",
    "\n",
    "ts, ps = stats.ttest_ind(X_train[y_train==0], X_train[y_train==1], axis=0, equal_var=False)\n",
    "sort_idx = np.argsort(ps)\n",
    "best_predictor = X_train.columns[sort_idx][0]\n",
    "print(best_predictor)"
   ]
  },
  {
   "cell_type": "code",
   "execution_count": 26,
   "metadata": {},
   "outputs": [
    {
     "data": {
      "text/plain": [
       "<matplotlib.legend.Legend at 0x7fe4c1bd8850>"
      ]
     },
     "execution_count": 26,
     "metadata": {},
     "output_type": "execute_result"
    },
    {
     "data": {
      "image/png": "[encoded data removed]",
      "text/plain": [
       "<Figure size 864x576 with 2 Axes>"
      ]
     },
     "metadata": {
      "needs_background": "light"
     },
     "output_type": "display_data"
    }
   ],
   "source": [
    "#your code here\n",
    "fig, axes = plt.subplots(2, 1, figsize=(12,8))\n",
    "\n",
    "axes[0].hist( X_train[y_train==0][best_predictor], bins=10, label='Class 0')\n",
    "axes[0].hist( X_train[y_train==1][best_predictor],bins=30, label='Class 1')\n",
    "axes[0].set_title(best_predictor + \"  train\")\n",
    "axes[0].legend()\n",
    "\n",
    "axes[1].hist( X_test[y_test==0][best_predictor], bins=30,label='Class 0')\n",
    "axes[1].hist( X_test[y_test==1][best_predictor], bins=30, label='Class 1')\n",
    "axes[1].set_title(best_predictor + \" test\")\n",
    "axes[1].legend();\n"
   ]
  },
  {
   "cell_type": "markdown",
   "metadata": {},
   "source": [
    "**1.4 Using your top gene from the previous part (call it  `best_predictor`), create a classification model by eye-balling a value for this gene that would discriminate the two classes the best. Justify your choice in 1-2 sentences. Report the accuracy of this hand-chosen model on the test set.**\n"
   ]
  },
  {
   "cell_type": "code",
   "execution_count": 44,
   "metadata": {},
   "outputs": [
    {
     "name": "stdout",
     "output_type": "stream",
     "text": [
      "0.7071547420965059 0.7086092715231788\n"
     ]
    },
    {
     "name": "stderr",
     "output_type": "stream",
     "text": [
      "/home/dev15/anaconda3/envs/pandai/lib/python3.7/site-packages/sklearn/model_selection/_split.py:1978: FutureWarning: The default value of cv will change from 3 to 5 in version 0.22. Specify it explicitly to silence this warning.\n",
      "  warnings.warn(CV_WARNING, FutureWarning)\n"
     ]
    }
   ],
   "source": [
    "#your code here\n",
    "model = LogisticRegressionCV().fit(X_train[best_predictor][:, None], y_train)\n",
    "print(model.score(X_train[best_predictor][:, None], y_train),\n",
    "      model.score(X_test[best_predictor][:, None], y_test))"
   ]
  },
  {
   "cell_type": "markdown",
   "metadata": {},
   "source": [
    "<div class='exercise'><b> Question 2 [25 pts]: Linear and Logistic Regression  </b></div>\n",
    "\n",
    "\n",
    "In class we discussed how to use both linear regression and logistic regression for classification. For this question, you will work with a single gene predictor that you identify as the best predictor above to explore these two methods.\n",
    "\n",
    "**2.1** Fit a simple linear regression model to the training set using the single gene predictor `best_predictor` to predict cancer type. The scores predicted by the regression model for a patient could be interpreted as an estimate of the probability that the patient has Cancer_type=1 (AML). Is there a problem with this interpretation?\n",
    "\n",
    "\n",
    "Create a figure with following items displayed on the same plot (use training data):\n",
    " - the predicted quantitative response from the linear regression model as a function of the best gene predictor\n",
    " - the true binary response. \n",
    "\n",
    "\n",
    "**2.2** Use your estimated linear regression model to classify observations into 0 and 1 using the standard Bayes' classifier.  Evaluate the classification accuracy of this classification model on both the training and test sets.\n",
    "\n",
    "\n",
    "**2.3** Next, fit a simple logistic regression model to the training set. How do the training and test classification accuracies of this model compare with the linear regression model? \n",
    "\n",
    "Remember, you need to set the regularization parameter for sklearn's logistic regression function to be a very large value in order to **not** regularize (use 'C=100000'). \n",
    "\n",
    "\n",
    "**2.4** \n",
    "Print and interpret the logistic regression coefficients: the 'slope' and intercept. \n",
    "\n",
    "\n",
    "Create 2 plots (one each for training and testing data) with 4 items displayed on each plot.\n",
    "- the predicted quantitative response from the linear regression model as a function of the best gene predictor.\n",
    "- the predicted probabilities of the logistic regression model as a function of the best gene predictor. \n",
    "- the true binary response. \n",
    "- a horizontal line at $y=0.5$. \n",
    "\n",
    "Based on these plots, does one of the models appear better suited for binary classification than the other?  Explain in 3 sentences or fewer. \n",
    "\n"
   ]
  },
  {
   "cell_type": "markdown",
   "metadata": {},
   "source": [
    "<hr>\n",
    "### Solutions"
   ]
  },
  {
   "cell_type": "markdown",
   "metadata": {},
   "source": [
    "**2.1** **Fit a simple linear regression model to the training set using the single gene predictor `best_predictor` to predict cancer type. The scores predicted by the regression model for a patient could be interpreted as an estimate of the probability that the patient has Cancer_type=1 (AML).  Is there a problem with this interpretation?**\n",
    "\n"
   ]
  },
  {
   "cell_type": "code",
   "execution_count": 39,
   "metadata": {},
   "outputs": [],
   "source": [
    "# your code here\n",
    "lin_model = LinearRegression().fit(X_train[best_predictor][:, None], y_train)"
   ]
  },
  {
   "cell_type": "code",
   "execution_count": 41,
   "metadata": {},
   "outputs": [
    {
     "data": {
      "text/plain": [
       "<matplotlib.legend.Legend at 0x7fe4c0fe2cd0>"
      ]
     },
     "execution_count": 41,
     "metadata": {},
     "output_type": "execute_result"
    },
    {
     "data": {
      "image/png": "[encoded data removed]",
      "text/plain": [
       "<Figure size 432x288 with 1 Axes>"
      ]
     },
     "metadata": {
      "needs_background": "light"
     },
     "output_type": "display_data"
    }
   ],
   "source": [
    "# your code here\n",
    "plt.scatter(X_train[best_predictor], y_train, label=\"GT\")\n",
    "plt.scatter(X_train[best_predictor], lin_model.predict(X_train[best_predictor][:, None]), label=\"Linear\")\n",
    "plt.legend()"
   ]
  },
  {
   "cell_type": "markdown",
   "metadata": {},
   "source": [
    "*your answer here* \n"
   ]
  },
  {
   "cell_type": "markdown",
   "metadata": {},
   "source": [
    "**2.2** **Use your estimated linear regression model to classify observations into 0 and 1 using the standard Bayes' classifier.  Evaluate the classification accuracy of this classification model on both the training and test sets.**"
   ]
  },
  {
   "cell_type": "code",
   "execution_count": 43,
   "metadata": {},
   "outputs": [
    {
     "name": "stdout",
     "output_type": "stream",
     "text": [
      "train score: 0.7088186356073212 test score: 0.6887417218543046\n"
     ]
    }
   ],
   "source": [
    "# your code here\n",
    "y_train_pred = lin_model.predict(X_train[best_predictor][:, None])\n",
    "y_test_pred = lin_model.predict(X_test[best_predictor][:, None])\n",
    "train_score = accuracy_score(y_train, y_train_pred>0.5)\n",
    "test_score = accuracy_score(y_test, y_test_pred>0.5)\n",
    "\n",
    "print(\"train score:\", train_score, \"test score:\", test_score)"
   ]
  },
  {
   "cell_type": "markdown",
   "metadata": {},
   "source": [
    "\n",
    "**2.3** **Next, fit a simple logistic regression model to the training set. How do the training and test classification accuracies of this model compare with the linear regression model? Are the classifications substantially different?  Explain why this is the case.**\n",
    "\n",
    "**Remember, you need to set the regularization parameter for sklearn's logistic regression function to be a very large value in order to **not** regularize (use 'C=100000')."
   ]
  },
  {
   "cell_type": "code",
   "execution_count": 45,
   "metadata": {},
   "outputs": [
    {
     "name": "stdout",
     "output_type": "stream",
     "text": [
      "0.7071547420965059 0.7086092715231788\n"
     ]
    },
    {
     "name": "stderr",
     "output_type": "stream",
     "text": [
      "/home/dev15/anaconda3/envs/pandai/lib/python3.7/site-packages/sklearn/linear_model/logistic.py:432: FutureWarning: Default solver will be changed to 'lbfgs' in 0.22. Specify a solver to silence this warning.\n",
      "  FutureWarning)\n"
     ]
    }
   ],
   "source": [
    "# your code here\n",
    "model = LogisticRegression(C=100000).fit(X_train[best_predictor][:, None], y_train)\n",
    "print(model.score(X_train[best_predictor][:, None], y_train),\n",
    "      model.score(X_test[best_predictor][:, None], y_test))"
   ]
  },
  {
   "cell_type": "markdown",
   "metadata": {},
   "source": [
    "*your answer here* \n",
    "Linear Regression has higher train score than Logistic Regression, but lower test score."
   ]
  },
  {
   "cell_type": "markdown",
   "metadata": {},
   "source": [
    "**2.4 Print and interpret the logistic regression coefficients: the 'slope' and the intercept.**\n",
    "\n",
    "**Create 2 plots (with training and test data) with 4 items displayed on each plot.**\n",
    "- the predicted quantitative response from the linear regression model as a function of the best gene predictor.\n",
    "- the predicted probabilities of the logistic regression model as a function of the best gene predictor. \n",
    "- the true binary response. \n",
    "- a horizontal line at $y=0.5$.\n",
    "\n",
    "**Based on these plots, does one of the models appear better suited for binary classification than the other?  Explain in 3 sentences or fewer.** \n"
   ]
  },
  {
   "cell_type": "code",
   "execution_count": 61,
   "metadata": {},
   "outputs": [
    {
     "data": {
      "image/png": "[encoded data removed]",
      "text/plain": [
       "<Figure size 1152x360 with 2 Axes>"
      ]
     },
     "metadata": {
      "needs_background": "light"
     },
     "output_type": "display_data"
    }
   ],
   "source": [
    "# your code here\n",
    "fig, axes = plt.subplots(1,2, figsize=(16,5))\n",
    "axes[0].scatter(X_train[best_predictor], y_train_pred, label=\"LinearRegression\")\n",
    "axes[0].scatter(X_train[best_predictor], model.predict_proba(X_train[best_predictor][:, None])[:, 1],\n",
    "            label=\"LogisticRegression\")\n",
    "axes[0].scatter(X_train[best_predictor], y_train, label=\"Ground-truth\")\n",
    "X = np.linspace(X_train[best_predictor].min(), X_train[best_predictor].max(), 100)\n",
    "axes[0].plot(X, [0.5]*len(X), label=\"y=0.5\")\n",
    "axes[0].legend()\n",
    "axes[0].set_title(\"Train Data\")\n",
    "axes[0].set_xlabel(best_predictor)\n",
    "axes[0].set_ylabel(\"Cancer Response\")\n",
    "\n",
    "axes[1].scatter(X_test[best_predictor], y_test_pred, label=\"LinearRegression\")\n",
    "axes[1].scatter(X_test[best_predictor], model.predict_proba(X_test[best_predictor][:, None])[:, 1],\n",
    "            label=\"LogisticRegression\")\n",
    "axes[1].scatter(X_test[best_predictor], y_test, label=\"Ground-truth\")\n",
    "X = np.linspace(X_test[best_predictor].min(), X_test[best_predictor].max(), 100)\n",
    "axes[1].plot(X, [0.5]*len(X), label=\"y=0.5\")\n",
    "axes[1].legend()\n",
    "axes[1].set_title(\"Test Data\")\n",
    "axes[1].set_xlabel(best_predictor)\n",
    "axes[1].set_ylabel(\"Cancer Response\");"
   ]
  },
  {
   "cell_type": "markdown",
   "metadata": {},
   "source": [
    "#### Logistic Regression is better as the responsesa do not go out of range, unlike Linear Regression."
   ]
  },
  {
   "cell_type": "markdown",
   "metadata": {},
   "source": [
    "<div class='exercise'> <b> Question 3 [20pts]: Multiple Logistic Regression </b> </div>\n",
    "\n",
    "\n",
    "**3.1** Next, fit a multiple logistic regression model with all the gene predictors from the data set.  How does the classification accuracy of this model compare with the models fitted in question 2 with a single gene (on both the training and test sets)?  \n",
    "\n",
    "\n",
    "**3.2** How many of the coefficients estimated by this multiple logistic regression in the previous part are significantly different from zero at a *significance level of 5%*? Use the same value of C=100000 as before.\n",
    "\n",
    "**Hint:** To answer this question, use *bootstrapping* with 100 bootstrap samples/iterations.  \n",
    "\n",
    "\n",
    "**3.3** Comment on the classification accuracy of training and test set? Given the results above how would you assess the generalization capacity of your trained model? What other tests would you suggest to better guard against false sense of security on the accuracy of the model as a whole? \n",
    "\n",
    "**3.4** Now use regularization to improve predictions from the multiple logistic regression model.  Use LASSO-like regularization and cross-validation within the training set to tune the model.  Report the classification accuracy on both the training and test set.\n",
    "\n",
    "**3.5** Do the 10 best predictors from Q1 hold up as important features in this regularized model?  If not, explain why this is the case (feel free to use the data to support your explanation)."
   ]
  },
  {
   "cell_type": "markdown",
   "metadata": {},
   "source": [
    "<hr>\n",
    "### Solutions"
   ]
  },
  {
   "cell_type": "markdown",
   "metadata": {},
   "source": [
    "**3.1** **Next, fit a multiple logistic regression model with all the gene predictors from the data set.  How does the classification accuracy of this model compare with the models fitted in question 2 with a single gene (on both the training and test sets)?**  \n"
   ]
  },
  {
   "cell_type": "code",
   "execution_count": 62,
   "metadata": {},
   "outputs": [
    {
     "name": "stderr",
     "output_type": "stream",
     "text": [
      "/home/dev15/anaconda3/envs/pandai/lib/python3.7/site-packages/sklearn/linear_model/logistic.py:432: FutureWarning: Default solver will be changed to 'lbfgs' in 0.22. Specify a solver to silence this warning.\n",
      "  FutureWarning)\n"
     ]
    },
    {
     "name": "stdout",
     "output_type": "stream",
     "text": [
      "1.0 0.7748344370860927\n"
     ]
    }
   ],
   "source": [
    "# your code here\n",
    "model = LogisticRegression(C=100000).fit(X_train, y_train)\n",
    "print(model.score(X_train, y_train), model.score(X_test, y_test))"
   ]
  },
  {
   "cell_type": "markdown",
   "metadata": {},
   "source": [
    "*your answer here* \n",
    "Better than just using the best_predictor"
   ]
  },
  {
   "cell_type": "markdown",
   "metadata": {},
   "source": [
    "**3.2** **How many of the coefficients estimated by this multiple logistic regression in the previous part are significantly different from zero at a *significance level of 5%*? Use the same value of C=100000 as before.**\n",
    "\n",
    "**Hint:** **To answer this question, use *bootstrapping* with 1000 bootstrap samples/iterations.**  \n"
   ]
  },
  {
   "cell_type": "code",
   "execution_count": 70,
   "metadata": {},
   "outputs": [],
   "source": [
    "# your code here\n",
    "n = 1000\n",
    "bootstraps = np.zeros((X_train.shape[1], n))\n",
    "\n",
    "for i in range(n):\n",
    "    idx = np.random.choice(X_train.shape[0], size=X_train.shape[0], replace=True)\n",
    "    X_train_boot = X_train.values[idx]\n",
    "    y_train_boot = y_train.values[idx]\n",
    "    model_boot = LogisticRegression(C=100000, solver=\"lbfgs\", max_iter=100000).fit(X_train_boot, y_train_boot)\n",
    "    bootstraps[:, i] = model_boot.coef_"
   ]
  },
  {
   "cell_type": "code",
   "execution_count": 72,
   "metadata": {},
   "outputs": [
    {
     "name": "stdout",
     "output_type": "stream",
     "text": [
      "Significant coefficents at 5pct level = 1062 / 7129\n"
     ]
    }
   ],
   "source": [
    "# your code here\n",
    "ci_upper = np.percentile(bootstraps, 97.5, axis=1)  # get upper limit of confidence interval (97.5%)\n",
    "ci_lower = np.percentile(bootstraps, 2.5, axis=1)  # get lower limit of confidence interval (2.5%)\n",
    "\n",
    "# ct significant predictors\n",
    "sig_b_ct = 0\n",
    "sig_preds = []\n",
    "cols = list(X_train.columns)\n",
    "\n",
    "# if ci contains 0, then insignificant\n",
    "for i in range(len(ci_upper)):\n",
    "    if ci_upper[i]<0 or ci_lower[i]>0:  # if either limit exceeds zero... (5% significantly different from 0)\n",
    "            sig_b_ct += 1\n",
    "            sig_preds.append(cols[i])\n",
    "\n",
    "print(\"Significant coefficents at 5pct level = %i / %i\" % (sig_b_ct, len(ci_upper)))\n",
    "# print('Number of significant columns: ', len(sig_preds))"
   ]
  },
  {
   "cell_type": "code",
   "execution_count": 75,
   "metadata": {},
   "outputs": [
    {
     "data": {
      "text/plain": [
       "array([1.36188986, 0.63447903, 0.30963115, ..., 0.36479252, 1.36785617,\n",
       "       0.78693796])"
      ]
     },
     "execution_count": 75,
     "metadata": {},
     "output_type": "execute_result"
    }
   ],
   "source": [
    "ci_upper"
   ]
  },
  {
   "cell_type": "code",
   "execution_count": 76,
   "metadata": {},
   "outputs": [
    {
     "data": {
      "text/plain": [
       "array([ 0.42253319, -0.23436405, -0.85583056, ..., -0.56850215,\n",
       "        0.18147413, -0.15863539])"
      ]
     },
     "execution_count": 76,
     "metadata": {},
     "output_type": "execute_result"
    }
   ],
   "source": [
    "ci_lower"
   ]
  },
  {
   "cell_type": "markdown",
   "metadata": {},
   "source": [
    "**3.3 Open question: Comment on the classification accuracy of training and test set? Given the results above how would you assest the generalization capacity of your trained model? What other tests would you suggest to better guard against false sense of security on the accuracy of the model as a whole.**"
   ]
  },
  {
   "cell_type": "markdown",
   "metadata": {},
   "source": [
    "*your answer here*"
   ]
  },
  {
   "cell_type": "markdown",
   "metadata": {},
   "source": [
    "**3.4 Now use regularization to improve predictions from the multiple logistic regression model.  Use LASSO-like regularization and cross-validation within the training set to tune the model.  Report the classification accuracy on both the training and test set.**"
   ]
  },
  {
   "cell_type": "code",
   "execution_count": 80,
   "metadata": {},
   "outputs": [
    {
     "name": "stderr",
     "output_type": "stream",
     "text": [
      "/home/dev15/anaconda3/envs/pandai/lib/python3.7/site-packages/sklearn/model_selection/_split.py:1978: FutureWarning: The default value of cv will change from 3 to 5 in version 0.22. Specify it explicitly to silence this warning.\n",
      "  warnings.warn(CV_WARNING, FutureWarning)\n"
     ]
    },
    {
     "name": "stdout",
     "output_type": "stream",
     "text": [
      "0.9068219633943427 0.8675496688741722\n"
     ]
    }
   ],
   "source": [
    "# your code here\n",
    "model = LogisticRegressionCV(solver=\"saga\" ,penalty='l1', max_iter=100000).fit(X_train, y_train)\n",
    "print(model.score(X_train, y_train), model.score(X_test, y_test))"
   ]
  },
  {
   "cell_type": "markdown",
   "metadata": {},
   "source": [
    "**3.5: Do the 10 best predictors from Q1 hold up as important features in this regularized model?  If not, explain why this is the case (feel free to use the data to support your explanation).**"
   ]
  },
  {
   "cell_type": "code",
   "execution_count": 81,
   "metadata": {},
   "outputs": [],
   "source": [
    "# your code here\n",
    "top_10 = X_train.columns[sort_idx][:10]"
   ]
  },
  {
   "cell_type": "code",
   "execution_count": 89,
   "metadata": {},
   "outputs": [
    {
     "data": {
      "text/plain": [
       "Index(['M31523_at', 'X95735_at', 'M84526_at', 'X61587_at', 'U50136_rna1_at',\n",
       "       'X17042_at', 'U29175_at', 'Y08612_at', 'Z11793_at', 'J04615_at'],\n",
       "      dtype='object')"
      ]
     },
     "execution_count": 89,
     "metadata": {},
     "output_type": "execute_result"
    }
   ],
   "source": [
    "# your code here\n",
    "top_10"
   ]
  },
  {
   "cell_type": "code",
   "execution_count": 88,
   "metadata": {},
   "outputs": [
    {
     "name": "stdout",
     "output_type": "stream",
     "text": [
      "[-0.9443784   0.66805375  0.75180199  0.99147291  0.80893643  0.\n",
      " -0.70115905  0.          0.38670103 -0.11405664]\n"
     ]
    }
   ],
   "source": [
    "# your code here\n",
    "print(model.coef_[0][sort_idx][:10])"
   ]
  },
  {
   "cell_type": "markdown",
   "metadata": {},
   "source": [
    "*your answer here* \n",
    "Not all are important, as some have coefficients of 0"
   ]
  },
  {
   "cell_type": "markdown",
   "metadata": {},
   "source": [
    "<div class='exercise'> <b> Question 4 [25pts]: Multi Class Log Regression </b> </div>"
   ]
  },
  {
   "cell_type": "markdown",
   "metadata": {},
   "source": [
    "**4.1** Load the data from `hw4_mc_enhance.csv.zip` and examine its structure. How many instances of each class are there in our dataset? \n",
    "\n",
    "**4.2** Split the dataset into train and test, 80-20 split, random_state = 8. \n",
    "\n",
    "We are going to utilize these two features - 'M31523_at', 'X95735_at'.  Create a scatter plot of these two features using the training dataset.  It should be easily discernable via labeling/marking in the plot which observations belong to which `cancer_type`.\n",
    "\n",
    "**4.3** Fit the following two models using crossvalidation: \n",
    "- Logistic Regression Multiclass model with linear features. \n",
    "- Logistic Regression Multiclass model with Polynomial features, degree = 2.\n",
    "\n",
    "**4.4** Plot the decision boundaries for each model and interpret the results. Hint: You may utilize the function `overlay_decision_boundary`. \n",
    "\n",
    "**4.5** Report and plot the CV scores for the two models and interpret. \n"
   ]
  },
  {
   "cell_type": "markdown",
   "metadata": {},
   "source": [
    "<hr>\n",
    "### Solutions"
   ]
  },
  {
   "cell_type": "markdown",
   "metadata": {},
   "source": [
    "**4.1 Load the data from `hw4_mc_enhance.csv.zip` and examine its structure. How many instances of each class are there in our dataset?**"
   ]
  },
  {
   "cell_type": "code",
   "execution_count": 3,
   "metadata": {},
   "outputs": [
    {
     "data": {
      "text/html": [
       "<div>\n",
       "<style scoped>\n",
       "    .dataframe tbody tr th:only-of-type {\n",
       "        vertical-align: middle;\n",
       "    }\n",
       "\n",
       "    .dataframe tbody tr th {\n",
       "        vertical-align: top;\n",
       "    }\n",
       "\n",
       "    .dataframe thead th {\n",
       "        text-align: right;\n",
       "    }\n",
       "</style>\n",
       "<table border=\"1\" class=\"dataframe\">\n",
       "  <thead>\n",
       "    <tr style=\"text-align: right;\">\n",
       "      <th></th>\n",
       "      <th>Unnamed: 0</th>\n",
       "      <th>AFFX-BioB-5_at</th>\n",
       "      <th>AFFX-BioB-M_at</th>\n",
       "      <th>AFFX-BioB-3_at</th>\n",
       "      <th>AFFX-BioC-5_at</th>\n",
       "      <th>AFFX-BioC-3_at</th>\n",
       "      <th>AFFX-BioDn-5_at</th>\n",
       "      <th>AFFX-BioDn-3_at</th>\n",
       "      <th>AFFX-CreX-5_at</th>\n",
       "      <th>AFFX-CreX-3_at</th>\n",
       "      <th>...</th>\n",
       "      <th>U58516_at</th>\n",
       "      <th>U73738_at</th>\n",
       "      <th>X06956_at</th>\n",
       "      <th>X16699_at</th>\n",
       "      <th>X83863_at</th>\n",
       "      <th>Z17240_at</th>\n",
       "      <th>L49218_f_at</th>\n",
       "      <th>M71243_f_at</th>\n",
       "      <th>Z78285_f_at</th>\n",
       "      <th>cancer_type</th>\n",
       "    </tr>\n",
       "  </thead>\n",
       "  <tbody>\n",
       "    <tr>\n",
       "      <th>count</th>\n",
       "      <td>750.00000</td>\n",
       "      <td>750.000000</td>\n",
       "      <td>750.000000</td>\n",
       "      <td>750.000000</td>\n",
       "      <td>750.000000</td>\n",
       "      <td>750.000000</td>\n",
       "      <td>750.000000</td>\n",
       "      <td>750.000000</td>\n",
       "      <td>750.000000</td>\n",
       "      <td>750.000000</td>\n",
       "      <td>...</td>\n",
       "      <td>750.000000</td>\n",
       "      <td>750.000000</td>\n",
       "      <td>750.000000</td>\n",
       "      <td>750.000000</td>\n",
       "      <td>750.000000</td>\n",
       "      <td>750.000000</td>\n",
       "      <td>750.000000</td>\n",
       "      <td>750.000000</td>\n",
       "      <td>750.000000</td>\n",
       "      <td>750.000000</td>\n",
       "    </tr>\n",
       "    <tr>\n",
       "      <th>mean</th>\n",
       "      <td>374.50000</td>\n",
       "      <td>-1014.598658</td>\n",
       "      <td>-1048.357272</td>\n",
       "      <td>-823.358695</td>\n",
       "      <td>-315.636838</td>\n",
       "      <td>-1295.949886</td>\n",
       "      <td>-1625.120199</td>\n",
       "      <td>-826.955064</td>\n",
       "      <td>-1175.612555</td>\n",
       "      <td>-588.598064</td>\n",
       "      <td>...</td>\n",
       "      <td>812.768978</td>\n",
       "      <td>-747.263549</td>\n",
       "      <td>16.272227</td>\n",
       "      <td>-801.847334</td>\n",
       "      <td>1031.081628</td>\n",
       "      <td>-3.162310</td>\n",
       "      <td>-723.364564</td>\n",
       "      <td>-40.495922</td>\n",
       "      <td>-810.150889</td>\n",
       "      <td>1.000000</td>\n",
       "    </tr>\n",
       "    <tr>\n",
       "      <th>std</th>\n",
       "      <td>216.65064</td>\n",
       "      <td>297.369331</td>\n",
       "      <td>233.933609</td>\n",
       "      <td>392.662256</td>\n",
       "      <td>215.534283</td>\n",
       "      <td>320.799277</td>\n",
       "      <td>419.687380</td>\n",
       "      <td>562.688520</td>\n",
       "      <td>288.546511</td>\n",
       "      <td>227.362605</td>\n",
       "      <td>...</td>\n",
       "      <td>663.320928</td>\n",
       "      <td>176.481127</td>\n",
       "      <td>751.988770</td>\n",
       "      <td>157.068732</td>\n",
       "      <td>966.569338</td>\n",
       "      <td>495.241653</td>\n",
       "      <td>138.805059</td>\n",
       "      <td>882.681724</td>\n",
       "      <td>176.347552</td>\n",
       "      <td>0.817041</td>\n",
       "    </tr>\n",
       "    <tr>\n",
       "      <th>min</th>\n",
       "      <td>0.00000</td>\n",
       "      <td>-2010.202020</td>\n",
       "      <td>-1772.451092</td>\n",
       "      <td>-1619.756151</td>\n",
       "      <td>-930.821077</td>\n",
       "      <td>-1984.530972</td>\n",
       "      <td>-2514.619404</td>\n",
       "      <td>-2766.759937</td>\n",
       "      <td>-1725.591441</td>\n",
       "      <td>-1255.146509</td>\n",
       "      <td>...</td>\n",
       "      <td>-375.241836</td>\n",
       "      <td>-1484.465401</td>\n",
       "      <td>-853.838447</td>\n",
       "      <td>-1367.829068</td>\n",
       "      <td>-571.900054</td>\n",
       "      <td>-838.747726</td>\n",
       "      <td>-1162.232820</td>\n",
       "      <td>-1266.486530</td>\n",
       "      <td>-1298.638023</td>\n",
       "      <td>0.000000</td>\n",
       "    </tr>\n",
       "    <tr>\n",
       "      <th>25%</th>\n",
       "      <td>187.25000</td>\n",
       "      <td>-1141.429466</td>\n",
       "      <td>-1218.887728</td>\n",
       "      <td>-1076.151552</td>\n",
       "      <td>-454.824979</td>\n",
       "      <td>-1548.108060</td>\n",
       "      <td>-1848.322368</td>\n",
       "      <td>-1203.978707</td>\n",
       "      <td>-1371.756006</td>\n",
       "      <td>-718.014815</td>\n",
       "      <td>...</td>\n",
       "      <td>322.566010</td>\n",
       "      <td>-847.468558</td>\n",
       "      <td>-335.783011</td>\n",
       "      <td>-924.099294</td>\n",
       "      <td>337.355440</td>\n",
       "      <td>-356.629007</td>\n",
       "      <td>-820.617263</td>\n",
       "      <td>-435.750013</td>\n",
       "      <td>-933.182073</td>\n",
       "      <td>0.000000</td>\n",
       "    </tr>\n",
       "    <tr>\n",
       "      <th>50%</th>\n",
       "      <td>374.50000</td>\n",
       "      <td>-1033.862143</td>\n",
       "      <td>-1024.510062</td>\n",
       "      <td>-896.612263</td>\n",
       "      <td>-255.321214</td>\n",
       "      <td>-1257.060242</td>\n",
       "      <td>-1701.504007</td>\n",
       "      <td>-875.340089</td>\n",
       "      <td>-1138.486182</td>\n",
       "      <td>-586.848142</td>\n",
       "      <td>...</td>\n",
       "      <td>639.993676</td>\n",
       "      <td>-750.170322</td>\n",
       "      <td>-130.115409</td>\n",
       "      <td>-783.870080</td>\n",
       "      <td>777.827303</td>\n",
       "      <td>-180.519462</td>\n",
       "      <td>-733.242628</td>\n",
       "      <td>-261.276132</td>\n",
       "      <td>-816.239345</td>\n",
       "      <td>1.000000</td>\n",
       "    </tr>\n",
       "    <tr>\n",
       "      <th>75%</th>\n",
       "      <td>561.75000</td>\n",
       "      <td>-837.607536</td>\n",
       "      <td>-885.604686</td>\n",
       "      <td>-560.246417</td>\n",
       "      <td>-196.687009</td>\n",
       "      <td>-1092.191607</td>\n",
       "      <td>-1259.153655</td>\n",
       "      <td>-508.663556</td>\n",
       "      <td>-978.433566</td>\n",
       "      <td>-416.287415</td>\n",
       "      <td>...</td>\n",
       "      <td>1355.814050</td>\n",
       "      <td>-654.438425</td>\n",
       "      <td>117.823076</td>\n",
       "      <td>-706.793736</td>\n",
       "      <td>1571.382500</td>\n",
       "      <td>209.283781</td>\n",
       "      <td>-609.175359</td>\n",
       "      <td>36.278669</td>\n",
       "      <td>-708.453545</td>\n",
       "      <td>2.000000</td>\n",
       "    </tr>\n",
       "    <tr>\n",
       "      <th>max</th>\n",
       "      <td>749.00000</td>\n",
       "      <td>-385.768608</td>\n",
       "      <td>-477.363374</td>\n",
       "      <td>130.829434</td>\n",
       "      <td>257.521293</td>\n",
       "      <td>-304.800847</td>\n",
       "      <td>-850.745403</td>\n",
       "      <td>929.737460</td>\n",
       "      <td>-466.326738</td>\n",
       "      <td>196.149024</td>\n",
       "      <td>...</td>\n",
       "      <td>2482.375600</td>\n",
       "      <td>-230.208352</td>\n",
       "      <td>5082.744968</td>\n",
       "      <td>-428.086002</td>\n",
       "      <td>4221.275650</td>\n",
       "      <td>1363.790953</td>\n",
       "      <td>-427.657222</td>\n",
       "      <td>5845.204223</td>\n",
       "      <td>-268.531949</td>\n",
       "      <td>2.000000</td>\n",
       "    </tr>\n",
       "  </tbody>\n",
       "</table>\n",
       "<p>8 rows × 7131 columns</p>\n",
       "</div>"
      ],
      "text/plain": [
       "       Unnamed: 0  AFFX-BioB-5_at  AFFX-BioB-M_at  AFFX-BioB-3_at  \\\n",
       "count   750.00000      750.000000      750.000000      750.000000   \n",
       "mean    374.50000    -1014.598658    -1048.357272     -823.358695   \n",
       "std     216.65064      297.369331      233.933609      392.662256   \n",
       "min       0.00000    -2010.202020    -1772.451092    -1619.756151   \n",
       "25%     187.25000    -1141.429466    -1218.887728    -1076.151552   \n",
       "50%     374.50000    -1033.862143    -1024.510062     -896.612263   \n",
       "75%     561.75000     -837.607536     -885.604686     -560.246417   \n",
       "max     749.00000     -385.768608     -477.363374      130.829434   \n",
       "\n",
       "       AFFX-BioC-5_at  AFFX-BioC-3_at  AFFX-BioDn-5_at  AFFX-BioDn-3_at  \\\n",
       "count      750.000000      750.000000       750.000000       750.000000   \n",
       "mean      -315.636838    -1295.949886     -1625.120199      -826.955064   \n",
       "std        215.534283      320.799277       419.687380       562.688520   \n",
       "min       -930.821077    -1984.530972     -2514.619404     -2766.759937   \n",
       "25%       -454.824979    -1548.108060     -1848.322368     -1203.978707   \n",
       "50%       -255.321214    -1257.060242     -1701.504007      -875.340089   \n",
       "75%       -196.687009    -1092.191607     -1259.153655      -508.663556   \n",
       "max        257.521293     -304.800847      -850.745403       929.737460   \n",
       "\n",
       "       AFFX-CreX-5_at  AFFX-CreX-3_at  ...    U58516_at    U73738_at  \\\n",
       "count      750.000000      750.000000  ...   750.000000   750.000000   \n",
       "mean     -1175.612555     -588.598064  ...   812.768978  -747.263549   \n",
       "std        288.546511      227.362605  ...   663.320928   176.481127   \n",
       "min      -1725.591441    -1255.146509  ...  -375.241836 -1484.465401   \n",
       "25%      -1371.756006     -718.014815  ...   322.566010  -847.468558   \n",
       "50%      -1138.486182     -586.848142  ...   639.993676  -750.170322   \n",
       "75%       -978.433566     -416.287415  ...  1355.814050  -654.438425   \n",
       "max       -466.326738      196.149024  ...  2482.375600  -230.208352   \n",
       "\n",
       "         X06956_at    X16699_at    X83863_at    Z17240_at  L49218_f_at  \\\n",
       "count   750.000000   750.000000   750.000000   750.000000   750.000000   \n",
       "mean     16.272227  -801.847334  1031.081628    -3.162310  -723.364564   \n",
       "std     751.988770   157.068732   966.569338   495.241653   138.805059   \n",
       "min    -853.838447 -1367.829068  -571.900054  -838.747726 -1162.232820   \n",
       "25%    -335.783011  -924.099294   337.355440  -356.629007  -820.617263   \n",
       "50%    -130.115409  -783.870080   777.827303  -180.519462  -733.242628   \n",
       "75%     117.823076  -706.793736  1571.382500   209.283781  -609.175359   \n",
       "max    5082.744968  -428.086002  4221.275650  1363.790953  -427.657222   \n",
       "\n",
       "       M71243_f_at  Z78285_f_at  cancer_type  \n",
       "count   750.000000   750.000000   750.000000  \n",
       "mean    -40.495922  -810.150889     1.000000  \n",
       "std     882.681724   176.347552     0.817041  \n",
       "min   -1266.486530 -1298.638023     0.000000  \n",
       "25%    -435.750013  -933.182073     0.000000  \n",
       "50%    -261.276132  -816.239345     1.000000  \n",
       "75%      36.278669  -708.453545     2.000000  \n",
       "max    5845.204223  -268.531949     2.000000  \n",
       "\n",
       "[8 rows x 7131 columns]"
      ]
     },
     "execution_count": 3,
     "metadata": {},
     "output_type": "execute_result"
    }
   ],
   "source": [
    "#your code here\n",
    "enhance = pd.read_csv(\"data/hw4_mc_enhance.csv\")\n",
    "enhance.describe()"
   ]
  },
  {
   "cell_type": "code",
   "execution_count": 4,
   "metadata": {},
   "outputs": [
    {
     "name": "stdout",
     "output_type": "stream",
     "text": [
      "250 250 250\n"
     ]
    }
   ],
   "source": [
    "#your code here \n",
    "print((enhance[\"cancer_type\"] == 0).sum(), (enhance[\"cancer_type\"] == 1).sum(), (enhance[\"cancer_type\"] == 2).sum())"
   ]
  },
  {
   "cell_type": "markdown",
   "metadata": {},
   "source": [
    "**4.2 Split the dataset into train and test, 80-20 split, random_state = 8.**\n",
    "\n",
    "**We are going to utilize these two features - 'M31523_at', 'X95735_at'.  Create a scatter plot of these two features using training dataset.  We should be able to discern from the plot which sample belongs to which `cancer_type`.** "
   ]
  },
  {
   "cell_type": "code",
   "execution_count": 5,
   "metadata": {},
   "outputs": [],
   "source": [
    "# your code here\n",
    "X_train, X_test, y_train, y_test =train_test_split(enhance.loc[:, enhance.columns != 'cancer_type'], \n",
    "                                                         enhance.cancer_type, test_size=0.2, \n",
    "                                                         random_state = 8, \n",
    "                                                         stratify = enhance.cancer_type)"
   ]
  },
  {
   "cell_type": "code",
   "execution_count": 6,
   "metadata": {},
   "outputs": [
    {
     "data": {
      "image/png": "[encoded data removed]",
      "text/plain": [
       "<Figure size 432x288 with 1 Axes>"
      ]
     },
     "metadata": {},
     "output_type": "display_data"
    }
   ],
   "source": [
    "plt.scatter(X_train[y_train==0][\"M31523_at\"], X_train[y_train==0][\"X95735_at\"], label=\"cancer 0\");\n",
    "plt.scatter(X_train[y_train==1][\"M31523_at\"], X_train[y_train==1][\"X95735_at\"], label=\"cancer 1\");\n",
    "plt.scatter(X_train[y_train==2][\"M31523_at\"], X_train[y_train==2][\"X95735_at\"], label=\"cancer 2\");\n",
    "plt.legend();"
   ]
  },
  {
   "cell_type": "markdown",
   "metadata": {},
   "source": [
    "**4.3  Fit the following two models using crossvalidation:**\n",
    "\n",
    "**Logistic Regression Multiclass model with linear features.**\n",
    "\n",
    "**Logistic Regression Multiclass model with Polynomial features, degree = 2.**\n"
   ]
  },
  {
   "cell_type": "code",
   "execution_count": 21,
   "metadata": {},
   "outputs": [],
   "source": [
    "# your code here\n",
    "two_preds = [\"M31523_at\", \"X95735_at\"]\n",
    "linmodel = LogisticRegressionCV(multi_class=\"ovr\", cv=5, max_iter=10000).fit(X_train[two_preds], y_train)"
   ]
  },
  {
   "cell_type": "code",
   "execution_count": 15,
   "metadata": {},
   "outputs": [],
   "source": [
    "def raise_power(X):\n",
    "    for col in X.columns:\n",
    "        X[col+\"_2\"] = X[col]**2\n",
    "    return X"
   ]
  },
  {
   "cell_type": "code",
   "execution_count": 22,
   "metadata": {},
   "outputs": [],
   "source": [
    "# your code here\n",
    "from sklearn.preprocessing import PolynomialFeatures\n",
    "from sklearn.pipeline import make_pipeline\n",
    "\n",
    "polymodel = make_pipeline(PolynomialFeatures(), LogisticRegressionCV(multi_class=\"ovr\", cv=5, max_iter=10000))\n",
    "polymodel = polymodel.fit(X_train[two_preds], y_train)"
   ]
  },
  {
   "cell_type": "markdown",
   "metadata": {},
   "source": [
    "**4.4 Plot the decision boundary and interpret results. Hint: You may utilize the function `overlay_decision_boundary`** \n"
   ]
  },
  {
   "cell_type": "code",
   "execution_count": 18,
   "metadata": {},
   "outputs": [],
   "source": [
    "def overlay_decision_boundary(ax, model, colors=None, nx=200, ny=200, desaturate=.5, xlim=None, ylim=None):\n",
    "    \"\"\"\n",
    "    A function that visualizes the decision boundaries of a classifier.\n",
    "    \n",
    "    ax: Matplotlib Axes to plot on\n",
    "    model: Classifier to use.\n",
    "     - if `model` has a `.predict` method, like an sklearn classifier, we call `model.predict(X)`\n",
    "     - otherwise, we simply call `model(X)`\n",
    "    colors: list or dict of colors to use. Use color `colors[i]` for class i.\n",
    "     - If colors is not provided, uses the current color cycle\n",
    "    nx, ny: number of mesh points to evaluated the classifier on\n",
    "    desaturate: how much to desaturate each of the colors (for better contrast with the sample points)\n",
    "    xlim, ylim: range to plot on. (If the default, None, is passed, the limits will be taken from `ax`.)\n",
    "    \"\"\"\n",
    "    # Create mesh.\n",
    "    xmin, xmax = ax.get_xlim() if xlim is None else xlim\n",
    "    ymin, ymax = ax.get_ylim() if ylim is None else ylim\n",
    "    xx, yy = np.meshgrid(\n",
    "        np.linspace(xmin, xmax, nx),\n",
    "        np.linspace(ymin, ymax, ny))\n",
    "    X = np.c_[xx.flatten(), yy.flatten()]\n",
    "\n",
    "    # Predict on mesh of points.\n",
    "    model = getattr(model, 'predict', model)\n",
    "    y = model(X)\n",
    "    #print(\"Do I predict\" , y)\n",
    "    \n",
    "    \n",
    "#     y[np.where(y=='aml')]=3\n",
    "#     y[np.where(y=='allT')]=2\n",
    "#     y[np.where(y=='allB')]=1\n",
    "    \n",
    "    \n",
    "    \n",
    "    y = y.astype(int) # This may be necessary for 32-bit Python.\n",
    "    y = y.reshape((nx, ny))\n",
    "\n",
    "    # Generate colormap.\n",
    "    if colors is None:\n",
    "        # If colors not provided, use the current color cycle.\n",
    "        # Shift the indices so that the lowest class actually predicted gets the first color.\n",
    "        # ^ This is a bit magic, consider removing for next year.\n",
    "        colors = (['white'] * np.min(y)) + sns.utils.get_color_cycle()\n",
    "\n",
    "    if isinstance(colors, dict):\n",
    "        missing_colors = [idx for idx in np.unique(y) if idx not in colors]\n",
    "        assert len(missing_colors) == 0, f\"Color not specified for predictions {missing_colors}.\"\n",
    "\n",
    "        # Make a list of colors, filling in items from the dict.\n",
    "        color_list = ['white'] * (np.max(y) + 1)\n",
    "        for idx, val in colors.items():\n",
    "            color_list[idx] = val\n",
    "    else:\n",
    "        assert len(colors) >= np.max(y) + 1, \"Insufficient colors passed for all predictions.\"\n",
    "        color_list = colors\n",
    "    color_list = [sns.utils.desaturate(color, desaturate) for color in color_list]\n",
    "    cmap = matplotlib.colors.ListedColormap(color_list)\n",
    "\n",
    "    # Plot decision surface\n",
    "    ax.pcolormesh(xx, yy, y, zorder=-2, cmap=cmap, norm=matplotlib.colors.NoNorm(), vmin=0, vmax=y.max() + 1)\n",
    "    xx = xx.reshape(nx, ny)\n",
    "    yy = yy.reshape(nx, ny)\n",
    "    if len(np.unique(y)) > 1:\n",
    "        ax.contour(xx, yy, y, colors=\"black\", linewidths=1, zorder=-1)\n",
    "    else:\n",
    "        print(\"Warning: only one class predicted, so not plotting contour lines.\")"
   ]
  },
  {
   "cell_type": "code",
   "execution_count": 25,
   "metadata": {},
   "outputs": [
    {
     "data": {
      "image/png": "[encoded data removed]",
      "text/plain": [
       "<Figure size 1152x360 with 2 Axes>"
      ]
     },
     "metadata": {},
     "output_type": "display_data"
    }
   ],
   "source": [
    "# Your code here\n",
    "fig, axes = plt.subplots(1,2, figsize=(16,5))\n",
    "\n",
    "axes[0].scatter(X_train[y_train==0][\"M31523_at\"], X_train[y_train==0][\"X95735_at\"], label=\"cancer 0\");\n",
    "axes[0].scatter(X_train[y_train==1][\"M31523_at\"], X_train[y_train==1][\"X95735_at\"], label=\"cancer 1\");\n",
    "axes[0].scatter(X_train[y_train==2][\"M31523_at\"], X_train[y_train==2][\"X95735_at\"], label=\"cancer 2\");\n",
    "overlay_decision_boundary(axes[0], linmodel)\n",
    "axes[0].legend();\n",
    "\n",
    "axes[1].scatter(X_train[y_train==0][\"M31523_at\"], X_train[y_train==0][\"X95735_at\"], label=\"cancer 0\");\n",
    "axes[1].scatter(X_train[y_train==1][\"M31523_at\"], X_train[y_train==1][\"X95735_at\"], label=\"cancer 1\");\n",
    "axes[1].scatter(X_train[y_train==2][\"M31523_at\"], X_train[y_train==2][\"X95735_at\"], label=\"cancer 2\");\n",
    "overlay_decision_boundary(axes[1], polymodel)\n",
    "axes[1].legend();"
   ]
  },
  {
   "cell_type": "markdown",
   "metadata": {},
   "source": [
    "**4.5 Report and plot the CV scores for the two models and interpret.**"
   ]
  },
  {
   "cell_type": "code",
   "execution_count": 29,
   "metadata": {},
   "outputs": [],
   "source": [
    "# your code here\n",
    "polymodel = make_pipeline(PolynomialFeatures(), LogisticRegression(solver=\"lbfgs\", multi_class=\"ovr\", max_iter=10000))\n",
    "polyCV = cross_val_score(polymodel, X_train[two_preds], y_train, cv=5)\n",
    "\n",
    "linmodel = LogisticRegression(solver=\"lbfgs\", multi_class=\"ovr\", max_iter=10000)\n",
    "linCV = cross_val_score(linmodel, X_train[two_preds], y_train, cv=5)              "
   ]
  },
  {
   "cell_type": "code",
   "execution_count": 30,
   "metadata": {},
   "outputs": [
    {
     "data": {
      "image/png": "[encoded data removed]",
      "text/plain": [
       "<Figure size 432x288 with 1 Axes>"
      ]
     },
     "metadata": {},
     "output_type": "display_data"
    }
   ],
   "source": [
    "# your code here\n",
    "plt.plot(linCV, label=\"Linear CV\")\n",
    "plt.plot(polyCV, label=\"Polynomial CV\")\n",
    "plt.legend();"
   ]
  },
  {
   "cell_type": "markdown",
   "metadata": {},
   "source": [
    "<div class='exercise'><b> Question 5: [10 pts] Including an 'abstain' option </b></div>\n",
    "\n",
    "One of the reasons a hospital might be hesitant to use your cancer classification model is that a misdiagnosis by the model on a patient can sometimes prove to be very costly (e.g. if the patient were to file a law suit seeking a compensation for damages). One way to mitigate this concern is to allow the model to 'abstain' from making a prediction: whenever it is uncertain about the diagnosis for a patient. However, when the model abstains from making a prediction, the hospital will have to forward the patient to a specialist, which would incur additional cost.  How could one design a cancer classification model with an abstain option, such that the cost to the hospital is minimized?\n",
    "\n",
    "*Hint:* Think of ways to build on top of the logistic regression model and have it abstain on patients who are difficult to classify."
   ]
  },
  {
   "cell_type": "markdown",
   "metadata": {},
   "source": [
    "**5.1** More specifically, suppose the cost incurred by a hospital when a model mis-predicts on a patient is $\\$5000$ , and the cost incurred when the model abstains from making a prediction is \\$1000. What is the average cost per patient for the OvR logistic regression model (without quadratic or interaction terms) from **Question 4**.  Note that this needs to be evaluated on the patients in the test set. "
   ]
  },
  {
   "cell_type": "markdown",
   "metadata": {},
   "source": [
    "**5.2** Design a classification strategy (into the 3 groups plus the *abstain* group) that has as low cost as possible per patient (certainly lower cost per patient than the logistic regression model).   Give a justification for your approach."
   ]
  },
  {
   "cell_type": "markdown",
   "metadata": {},
   "source": [
    "<hr>\n",
    "### Solutions"
   ]
  },
  {
   "cell_type": "markdown",
   "metadata": {},
   "source": [
    "**5.1 More specifically, suppose the cost incurred by a hospital when a model mis-predicts on a patient is $\\$5000$ , and the cost incurred when the model abstains from making a prediction is \\$1000. What is the average cost per patient for the OvR logistic regression model (without quadratic or interaction terms) from Question 4.  Note that this needs to be evaluated on the patients in the test set.**\n",
    "**\n",
    "...\n",
    "**"
   ]
  },
  {
   "cell_type": "markdown",
   "metadata": {},
   "source": [
    "*your answer here* \n"
   ]
  },
  {
   "cell_type": "code",
   "execution_count": 31,
   "metadata": {},
   "outputs": [],
   "source": [
    "# your code here\n",
    "linmodel = LogisticRegressionCV(multi_class=\"ovr\", cv=5, max_iter=10000).fit(X_train[two_preds], y_train)\n",
    "linpreds = linmodel.predict(X_test[two_preds])"
   ]
  },
  {
   "cell_type": "code",
   "execution_count": 34,
   "metadata": {},
   "outputs": [
    {
     "data": {
      "text/plain": [
       "633.3333333333334"
      ]
     },
     "execution_count": 34,
     "metadata": {},
     "output_type": "execute_result"
    }
   ],
   "source": [
    "sum(linpreds != y_test) * 5000 / len(y_test)"
   ]
  },
  {
   "cell_type": "markdown",
   "metadata": {},
   "source": [
    "**5.2 Design a classification strategy (into the 3 groups plus the *abstain* group) that has as low cost as possible per patient (certainly lower cost per patient than the logistic regression model).   Give a justification for your approach.**"
   ]
  },
  {
   "cell_type": "code",
   "execution_count": 35,
   "metadata": {},
   "outputs": [],
   "source": [
    "# your code here\n",
    "linprob = linmodel.predict_proba(X_test[two_preds])"
   ]
  },
  {
   "cell_type": "code",
   "execution_count": 49,
   "metadata": {},
   "outputs": [],
   "source": [
    "# linprob[linpreds != y_test].max(axis=1)  # For eye-balling confidence values"
   ]
  },
  {
   "cell_type": "code",
   "execution_count": 50,
   "metadata": {},
   "outputs": [],
   "source": [
    "# linprob[linpreds == y_test].max(axis=1)  # For eye-balling confidence values"
   ]
  },
  {
   "cell_type": "code",
   "execution_count": 45,
   "metadata": {},
   "outputs": [],
   "source": [
    "linpreds_abstain = linpreds.copy()\n",
    "linpreds_abstain[linprob.max(axis=1)<0.5] = 3"
   ]
  },
  {
   "cell_type": "code",
   "execution_count": 48,
   "metadata": {},
   "outputs": [
    {
     "data": {
      "text/plain": [
       "560.0"
      ]
     },
     "execution_count": 48,
     "metadata": {},
     "output_type": "execute_result"
    }
   ],
   "source": [
    "(sum((linpreds_abstain != y_test) & (linpreds_abstain!= 3)) * 5000 + sum(linpreds_abstain == 3) * 1000)/ len(y_test)"
   ]
  },
  {
   "cell_type": "markdown",
   "metadata": {},
   "source": [
    "#### If the maximum confidence of predicting for a patient is less than 50%, abstain."
   ]
  },
  {
   "cell_type": "code",
   "execution_count": null,
   "metadata": {},
   "outputs": [],
   "source": []
  }
 ],
 "metadata": {
  "kernelspec": {
   "display_name": "Python 3",
   "language": "python",
   "name": "python3"
  },
  "language_info": {
   "codemirror_mode": {
    "name": "ipython",
    "version": 3
   },
   "file_extension": ".py",
   "mimetype": "text/x-python",
   "name": "python",
   "nbconvert_exporter": "python",
   "pygments_lexer": "ipython3",
   "version": "3.7.5"
  }
 },
 "nbformat": 4,
 "nbformat_minor": 2
}
